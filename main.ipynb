{
 "cells": [
  {
   "cell_type": "markdown",
   "metadata": {},
   "source": [
    "Comorasu Ana-Maria\n",
    "\n",
    "Grupa 334\n",
    "\n",
    "Tema 1 - Computer Vision"
   ]
  },
  {
   "cell_type": "markdown",
   "metadata": {},
   "source": [
    "# Utilities"
   ]
  },
  {
   "cell_type": "markdown",
   "metadata": {},
   "source": [
    "## Import Libraries"
   ]
  },
  {
   "cell_type": "code",
   "execution_count": 1,
   "metadata": {},
   "outputs": [],
   "source": [
    "import cv2 as cv\n",
    "import numpy as np\n",
    "import math\n",
    "import os\n",
    "# import tensorflow\n",
    "# from tensorflow import keras"
   ]
  },
  {
   "cell_type": "code",
   "execution_count": 6,
   "metadata": {},
   "outputs": [],
   "source": [
    "# Constants - PLEASE CHANGE IF YOU WANT TO ON OTHER DATA\n",
    "CLASIC_IMGS = 20\n",
    "JIGSAW_IMGS = 40\n",
    "BONUS = 'bonus'"
   ]
  },
  {
   "cell_type": "markdown",
   "metadata": {},
   "source": [
    "## Directories and files"
   ]
  },
  {
   "cell_type": "code",
   "execution_count": 2,
   "metadata": {},
   "outputs": [],
   "source": [
    "# * for reading images, call read_images function with either clasic or jigsaw and the number of images\n",
    "def read_images(type: str, number: int):\n",
    "    train_dir = './antrenare/' + type + '/'\n",
    "    names = [train_dir + str(i).zfill(2) + '.jpg' for i in range(1, number + 1)]\n",
    "    # names = [train_dir + str(i).zfill(2) + '.jpg' for i in [2, 7, 8, 10, 11, 15, 24, 30, 40]]\n",
    "    training_imgs = [cv.imread(name) for name in names]\n",
    "    training_imgs = [cv.resize(i, (0, 0), fx=0.25, fy=0.25) for i in training_imgs]\n",
    "    return training_imgs"
   ]
  },
  {
   "cell_type": "markdown",
   "metadata": {},
   "source": [
    "### For submission"
   ]
  },
  {
   "cell_type": "code",
   "execution_count": 3,
   "metadata": {},
   "outputs": [],
   "source": [
    "def make_submission_dirs():\n",
    "    os.mkdir('./fisiere_solutie')\n",
    "    os.mkdir('./fisiere_solutie/clasic')\n",
    "    os.mkdir('./fisiere_solutie/jigsaw')"
   ]
  },
  {
   "cell_type": "markdown",
   "metadata": {},
   "source": [
    "### Show image"
   ]
  },
  {
   "cell_type": "code",
   "execution_count": 4,
   "metadata": {},
   "outputs": [],
   "source": [
    "def show_image(title, image):\n",
    "    cv.imshow(title, image)\n",
    "    cv.waitKey(0)\n",
    "    cv.destroyAllWindows()"
   ]
  },
  {
   "cell_type": "markdown",
   "metadata": {},
   "source": [
    "## Clasic and Jigsaw Images"
   ]
  },
  {
   "cell_type": "code",
   "execution_count": 7,
   "metadata": {},
   "outputs": [],
   "source": [
    "clasic_data = read_images('clasic', CLASIC_IMGS)\n",
    "jigsaw_data = read_images('jigsaw', JIGSAW_IMGS)"
   ]
  },
  {
   "cell_type": "markdown",
   "metadata": {},
   "source": [
    "# Preprocess images"
   ]
  },
  {
   "cell_type": "markdown",
   "metadata": {},
   "source": [
    "### Normalize image"
   ]
  },
  {
   "cell_type": "code",
   "execution_count": 8,
   "metadata": {},
   "outputs": [],
   "source": [
    "# * Normalize image - remove shadows\n",
    "def normalize_image(img):\n",
    "    noise = cv.dilate(img, np.ones((7, 7), np.uint8))\n",
    "    blur = cv.medianBlur(noise, 21)\n",
    "    res = 255 - cv.absdiff(img, blur)\n",
    "    no_shadow = cv.normalize(res, None, alpha=0, beta=255, norm_type=cv.NORM_MINMAX)\n",
    "    return no_shadow"
   ]
  },
  {
   "cell_type": "markdown",
   "metadata": {},
   "source": [
    "### Apply filters"
   ]
  },
  {
   "cell_type": "markdown",
   "metadata": {},
   "source": [
    "#### Initial filters"
   ]
  },
  {
   "cell_type": "code",
   "execution_count": 9,
   "metadata": {},
   "outputs": [],
   "source": [
    "def filter_image_v1(image):\n",
    "    # varianta laborator\n",
    "    image = cv.cvtColor(image, cv.COLOR_BGR2GRAY)\n",
    "    img_norm = normalize_image(image)\n",
    "    img_gblur = cv.GaussianBlur(img_norm, (9, 9), 0)\n",
    "    img_sharp = cv.addWeighted(img_norm, 1.2, img_gblur, -0.8, 0)\n",
    "\n",
    "    _, thresh = cv.threshold(img_sharp, 20, 255, cv.THRESH_BINARY)\n",
    "    \n",
    "    kernel = np.ones((5, 5), np.uint8)\n",
    "    thresh = cv.erode(thresh, kernel)\n",
    "\n",
    "    inverted = cv.bitwise_not(thresh, 0)\n",
    "\n",
    "    return inverted\n",
    "\n",
    "\n",
    "def filter_image_v2(image):\n",
    "    image = cv.cvtColor(image, cv.COLOR_BGR2GRAY)\n",
    "    img_norm = normalize_image(image)\n",
    "    img_gblur = cv.GaussianBlur(img_norm, (9, 9), 0)\n",
    "\n",
    "    thresh = cv.adaptiveThreshold(img_gblur, 255, cv.ADAPTIVE_THRESH_GAUSSIAN_C, cv.THRESH_BINARY_INV, 11, 2)\n",
    "    kernel = cv.getStructuringElement(cv.MORPH_RECT, (2, 2))\n",
    "    morph = cv.morphologyEx(thresh, cv.MORPH_OPEN, kernel)\n",
    "\n",
    "    res = cv.dilate(morph, kernel, iterations=1)\n",
    "    res = cv.erode(res, kernel)\n",
    "\n",
    "    return res\n",
    "\n",
    "\n",
    "def filter_image_v3(image):\n",
    "    kernel = cv.getStructuringElement(cv.MORPH_RECT, (2, 2))\n",
    "\n",
    "    image = cv.cvtColor(image, cv.COLOR_BGR2GRAY)\n",
    "    img_norm = normalize_image(image)\n",
    "    img_gblur = cv.GaussianBlur(img_norm, (1, 1), 0)\n",
    "    img_gblur = cv.medianBlur(img_gblur, 11)\n",
    "    # show_image(\"median blur\", img_gblur)\n",
    "\n",
    "    thresh = cv.adaptiveThreshold(img_gblur, 255, cv.ADAPTIVE_THRESH_MEAN_C, cv.THRESH_BINARY_INV, 9, 12)\n",
    "    # show_image(\"thresh\", thresh)\n",
    "    morph = cv.morphologyEx(thresh, cv.MORPH_OPEN, kernel)\n",
    "\n",
    "    # # res = cv.dilate(morph, kernel, iterations=1)\n",
    "    # res1 = cv.erode(morph, kernel, iterations=6)\n",
    "    # res1 = cv.dilate(res1, kernel, iterations=4)\n",
    "    # show_image(\"res1\", res1)\n",
    "\n",
    "    res2 = cv.erode(morph, kernel, iterations=1)\n",
    "    res2 = cv.dilate(res2, kernel, iterations=2)\n",
    "    # show_image(\"res2\", res2)\n",
    "\n",
    "    return res2"
   ]
  },
  {
   "cell_type": "markdown",
   "metadata": {},
   "source": [
    "#### Warp filter"
   ]
  },
  {
   "cell_type": "code",
   "execution_count": 10,
   "metadata": {},
   "outputs": [],
   "source": [
    "def warp_image(corners, image):\n",
    "    corners = np.array(corners, dtype='float32')\n",
    "    top_left, top_right, bottom_right, bottom_left = corners\n",
    "\n",
    "    width = int(max([\n",
    "        np.linalg.norm(top_right - bottom_right),\n",
    "        np.linalg.norm(top_left - bottom_left),\n",
    "        np.linalg.norm(bottom_right - bottom_left),\n",
    "        np.linalg.norm(top_left - top_right)\n",
    "    ]))\n",
    "\n",
    "    mapping = np.array([[0, 0], [width - 1, 0], [width - 1, width - 1], [0, width - 1]], dtype='float32')\n",
    "    matrix = cv.getPerspectiveTransform(corners, mapping)\n",
    "\n",
    "    return cv.warpPerspective(image, matrix, (width, width)), matrix"
   ]
  },
  {
   "cell_type": "markdown",
   "metadata": {},
   "source": [
    "### Find contours"
   ]
  },
  {
   "cell_type": "code",
   "execution_count": 11,
   "metadata": {},
   "outputs": [],
   "source": [
    "def find_contours(image):\n",
    "    edges =  cv.Canny(image, 150, 400)\n",
    "    contours, _ = cv.findContours(edges, cv.RETR_EXTERNAL, cv.CHAIN_APPROX_SIMPLE)\n",
    "    max_area = 0\n",
    "\n",
    "    for i in range(len(contours)):\n",
    "        if(len(contours[i]) >3):\n",
    "            possible_top_left = None\n",
    "            possible_bottom_right = None\n",
    "            for point in contours[i].squeeze():\n",
    "                if possible_top_left is None or point[0] + point[1] < possible_top_left[0] + possible_top_left[1]:\n",
    "                    possible_top_left = point\n",
    "\n",
    "                if possible_bottom_right is None or point[0] + point[1] > possible_bottom_right[0] + possible_bottom_right[1] :\n",
    "                    possible_bottom_right = point\n",
    "\n",
    "            diff = np.diff(contours[i].squeeze(), axis = 1)\n",
    "            possible_top_right = contours[i].squeeze()[np.argmin(diff)]\n",
    "            possible_bottom_left = contours[i].squeeze()[np.argmax(diff)]\n",
    "            if cv.contourArea(np.array([[possible_top_left],[possible_top_right],[possible_bottom_right],[possible_bottom_left]])) > max_area:\n",
    "                max_area = cv.contourArea(np.array([[possible_top_left],[possible_top_right],[possible_bottom_right],[possible_bottom_left]]))\n",
    "                top_left = possible_top_left\n",
    "                bottom_right = possible_bottom_right\n",
    "                top_right = possible_top_right\n",
    "                bottom_left = possible_bottom_left\n",
    "\n",
    "    image_copy = cv.cvtColor(image.copy(),cv.COLOR_GRAY2BGR)\n",
    "    cv.circle(image_copy,tuple(top_left),4,(0,0,255),-1)\n",
    "    cv.circle(image_copy,tuple(top_right),4,(0,0,255),-1)\n",
    "    cv.circle(image_copy,tuple(bottom_left),4,(0,0,255),-1)\n",
    "    cv.circle(image_copy,tuple(bottom_right),4,(0,0,255),-1)\n",
    "    # show_image(\"detected corners\", image_copy)\n",
    "\n",
    "    return top_left, top_right, bottom_right, bottom_left"
   ]
  },
  {
   "cell_type": "markdown",
   "metadata": {},
   "source": [
    "### Preprocess (combining previous functions)"
   ]
  },
  {
   "cell_type": "code",
   "execution_count": 12,
   "metadata": {},
   "outputs": [],
   "source": [
    "def preprocess_task1(image):\n",
    "    filtered_img = filter_image_v2(image)\n",
    "    corners = find_contours(filtered_img)\n",
    "\n",
    "    warped, _ = warp_image(corners, image)\n",
    "    warped_processed = filter_image_v2(warped)\n",
    "    return warped_processed\n",
    "\n",
    "\n",
    "def preprocess_task2(image):\n",
    "    filtered_img = filter_image_v2(image)\n",
    "    corners = find_contours(filtered_img)\n",
    "\n",
    "    warped, _ = warp_image(corners, image)\n",
    "    warped_processed = filter_image_v3(warped)\n",
    "    return warped_processed"
   ]
  },
  {
   "cell_type": "markdown",
   "metadata": {},
   "source": [
    "### Get vertical and horizontal lines"
   ]
  },
  {
   "cell_type": "code",
   "execution_count": 13,
   "metadata": {},
   "outputs": [],
   "source": [
    "def get_grid_line(image, type):\n",
    "    img_cpy = image.copy()\n",
    "    if type == 'h':\n",
    "        s = img_cpy.shape[1]\n",
    "    else:\n",
    "        s = img_cpy.shape[0]\n",
    "    size = s // 10\n",
    "\n",
    "    if type == 'h':\n",
    "        kernel = cv.getStructuringElement(cv.MORPH_RECT, (size, 1))\n",
    "    else:\n",
    "        kernel = cv.getStructuringElement(cv.MORPH_RECT, (1, size))\n",
    "    \n",
    "    img_cpy = cv.erode(img_cpy, kernel)\n",
    "    img_cpy = cv.dilate(img_cpy, kernel)\n",
    "\n",
    "    return img_cpy\n",
    "\n",
    "\n",
    "def grid_lines(image):\n",
    "    vertical = get_grid_line(image, 'v')\n",
    "    horizontal = get_grid_line(image, 'h')\n",
    "\n",
    "    return vertical, horizontal"
   ]
  },
  {
   "cell_type": "markdown",
   "metadata": {},
   "source": [
    "### Draw the grid"
   ]
  },
  {
   "cell_type": "code",
   "execution_count": 14,
   "metadata": {},
   "outputs": [],
   "source": [
    "def draw_grid_lines(img, lines):\n",
    "    clone = img.copy()\n",
    "    lines = np.squeeze(lines)\n",
    "    for r, t in lines:\n",
    "        a, b = np.cos(t), np.sin(t)\n",
    "        x0, y0 = a * r, b * r\n",
    "        x1 = int(x0 + 1000 * (-b))\n",
    "        y1 = int(y0 + 1000 * a)\n",
    "        x2 = int(x0 - 1000 * (-b))\n",
    "        y2 = int(y0 - 1000 * a)\n",
    "        cv.line(clone, (x1, y1), (x2, y2), (255, 255, 255), 3)\n",
    "    return clone"
   ]
  },
  {
   "cell_type": "markdown",
   "metadata": {},
   "source": [
    "### Mask the grid"
   ]
  },
  {
   "cell_type": "code",
   "execution_count": 15,
   "metadata": {},
   "outputs": [],
   "source": [
    "def grid_mask(vertical, horizontal):\n",
    "    grid = cv.add(horizontal, vertical)\n",
    "    grid = cv.adaptiveThreshold(grid, 255, cv.ADAPTIVE_THRESH_GAUSSIAN_C, cv.THRESH_BINARY, 235, 2)\n",
    "    kernel = cv.getStructuringElement(cv.MORPH_RECT, (3, 3))\n",
    "    grid = cv.dilate(grid, kernel, iterations=2)\n",
    "\n",
    "    points = cv.HoughLines(grid, 0.3, np.pi/90, 200)\n",
    "    lines = draw_grid_lines(grid, points)\n",
    "    mask = cv.bitwise_not(lines)\n",
    "    return mask"
   ]
  },
  {
   "cell_type": "markdown",
   "metadata": {},
   "source": [
    "### Check if the cell is empty"
   ]
  },
  {
   "cell_type": "code",
   "execution_count": 16,
   "metadata": {},
   "outputs": [],
   "source": [
    "def cell_is_empty(cell):\n",
    "    cell = np.array(cell)\n",
    "    avg_color_row = np.average(cell, axis=0)\n",
    "    avg_color = np.average(avg_color_row, axis=0)\n",
    "    return avg_color <= 6"
   ]
  },
  {
   "cell_type": "markdown",
   "metadata": {},
   "source": [
    "### Get Sudoku board cells"
   ]
  },
  {
   "cell_type": "code",
   "execution_count": 17,
   "metadata": {},
   "outputs": [],
   "source": [
    "def get_cells(image):\n",
    "    cells = []\n",
    "    width, _ = image.shape\n",
    "    width_cell = width // 9\n",
    "    i = 0\n",
    "    for _ in range(9):\n",
    "        cells.append([])\n",
    "        j = 0\n",
    "        for _ in range(9):\n",
    "            cell = image[i : i + width_cell, j : j + width_cell]\n",
    "            cells[-1].append(cell)\n",
    "            j += width_cell\n",
    "        i += width_cell\n",
    "    return cells"
   ]
  },
  {
   "cell_type": "markdown",
   "metadata": {},
   "source": [
    "# Solve tasks"
   ]
  },
  {
   "cell_type": "markdown",
   "metadata": {},
   "source": [
    "### Load Model"
   ]
  },
  {
   "cell_type": "code",
   "execution_count": null,
   "metadata": {},
   "outputs": [],
   "source": [
    "# model = keras.models.load_model(\"MNIST.h5\")"
   ]
  },
  {
   "cell_type": "markdown",
   "metadata": {},
   "source": [
    "## Task 1 result to write in file"
   ]
  },
  {
   "cell_type": "code",
   "execution_count": 19,
   "metadata": {},
   "outputs": [],
   "source": [
    "# task 1\n",
    "def task1(cells, type=''):\n",
    "    res = ''\n",
    "    for cell_line in cells:\n",
    "        for curr_cell in cell_line:\n",
    "            # * erode image\n",
    "            cell = curr_cell.astype(\"float32\")\n",
    "            cell = cv.resize(cell[10 : -10, 10: -10], (28, 28))\n",
    "            # cell = cv.erode(cell, (1, 1))\n",
    "            # cell = np.reshape(cell, (1, 224, 224, 1))\n",
    "            if cell_is_empty(cell):\n",
    "                res += 'o'\n",
    "            else:\n",
    "                if type != BONUS:\n",
    "                    res += 'x'\n",
    "                # else:\n",
    "                #     predictions = model.predict(tensorflow.image.grayscale_to_rgb(cell))\n",
    "                #     digit = np.where(predictions == np.amax(predictions))\n",
    "                #     res += str(digit[1][0])\n",
    "                    \n",
    "        res += '\\n'\n",
    "    return res.rstrip('\\n')"
   ]
  },
  {
   "cell_type": "markdown",
   "metadata": {},
   "source": [
    "### Solve task 1"
   ]
  },
  {
   "cell_type": "code",
   "execution_count": 24,
   "metadata": {},
   "outputs": [],
   "source": [
    "def solve_task_1(type=''):\n",
    "    # todo uncomment if the directories are not creaated\n",
    "    make_submission_dirs()\n",
    "    submit_clasic = './fisiere_solutie/clasic/'\n",
    "    plus = ('_' + BONUS) if type == BONUS else ''\n",
    "    submit_names = [submit_clasic + str(i) + plus + '_predicted.txt' for i in range(1, CLASIC_IMGS + 1)]\n",
    "    i = 0\n",
    "    # * already have clasic_data loaded\n",
    "    for curr_image in clasic_data:\n",
    "        # * warp and preprocess image\n",
    "        warped = preprocess_task1(curr_image)\n",
    "\n",
    "        # * create a mask\n",
    "        vertical, horizontal = grid_lines(warped)\n",
    "        mask = grid_mask(vertical, horizontal)\n",
    "        show_image(\"mask\", mask)\n",
    "\n",
    "        # * remove the lines from the board\n",
    "        board = cv.bitwise_and(warped, mask)\n",
    "        show_image('board', board)\n",
    "\n",
    "        cells = get_cells(board)\n",
    "        result = task1(cells) if type != BONUS else task1(cells, BONUS)\n",
    "\n",
    "        # * write result in file\n",
    "        file_write = open(submit_names[i], 'w')\n",
    "        file_write.write(result)\n",
    "        i += 1\n",
    "        \n"
   ]
  },
  {
   "cell_type": "markdown",
   "metadata": {},
   "source": [
    "## Solve task 2"
   ]
  },
  {
   "cell_type": "code",
   "execution_count": 21,
   "metadata": {},
   "outputs": [],
   "source": [
    "def task2(cells, colors, type=''):\n",
    "    res = ''\n",
    "    for i in range(9):\n",
    "        for j in range(9):\n",
    "            curr_cell = cells[i][j]\n",
    "            cell = curr_cell.astype(\"float32\")\n",
    "            cell = cv.resize(cell[10 : -10, 10: -10], (28, 28))\n",
    "            # cell = np.reshape(cell, (1, 224, 224, 1))\n",
    "            res += str(colors[i][j])\n",
    "            if cell_is_empty(cells[i][j]):\n",
    "                res += 'o'\n",
    "            else:\n",
    "                if type != BONUS:\n",
    "                    res += 'x'\n",
    "                # else:\n",
    "                #     predictions = model.predict(tensorflow.image.grayscale_to_rgb(cell))\n",
    "                #     digit = np.where(predictions == np.amax(predictions))\n",
    "                #     res += str(digit[1][0])\n",
    "        res += '\\n'\n",
    "    return res.rstrip('\\n')"
   ]
  },
  {
   "cell_type": "markdown",
   "metadata": {},
   "source": [
    "### Graph class to solve islands problem"
   ]
  },
  {
   "cell_type": "code",
   "execution_count": 22,
   "metadata": {},
   "outputs": [],
   "source": [
    "class Graph:\n",
    "    def __init__(self) -> None:\n",
    "        self.adj_list = []\n",
    "        self.visited = [[-1 for _ in range(9)] for _ in range(9)]\n",
    "\n",
    "    def number(self, line, columnn):\n",
    "        return 9 * line + columnn\n",
    "\n",
    "    def indices(self, num):\n",
    "        return [num // 9, num % 9]\n",
    "\n",
    "    def is_edge(self, edge) -> bool:\n",
    "        return edge in self.adj_list\n",
    "\n",
    "    def add_edge(self, node_a, node_b) -> None:\n",
    "        if [node_a, node_b] not in self.adj_list:\n",
    "            self.adj_list.append([node_a, node_b])\n",
    "            self.adj_list.append([node_b, node_a])\n",
    "    \n",
    "    def connected_points(self, board, start, stop):\n",
    "        # * vertically arranged\n",
    "        if start[0] == stop[0]:\n",
    "            part = board[start[1] + 15 : stop[1] - 15, start[0] - 15 : stop[0] + 15]\n",
    "            avg = np.mean(part)\n",
    "            return avg < 15\n",
    "        # * horizontally arranged\n",
    "        else:\n",
    "            part = board[start[1] - 15 : stop[1] + 15, start[0] + 15 : stop[0] - 15]\n",
    "            # show_image(\"part vert\", part)\n",
    "            avg = np.mean(part)\n",
    "            return avg < 15\n",
    "\n",
    "    def construct_graph_from_board(self, board):\n",
    "        width = board.shape[0]\n",
    "        cell_width = width // 9\n",
    "        # search vertically first\n",
    "        for i in range(1, 9):\n",
    "            for j in range(0, 9):\n",
    "                point_start = (i * cell_width, j * cell_width)\n",
    "                point_stop = (i * cell_width, (j + 1) * cell_width)\n",
    "                if self.connected_points(board, point_start, point_stop):\n",
    "                    self.add_edge(self.number(j, i - 1), self.number(j, i))\n",
    "        \n",
    "        for i in range(1, 9):\n",
    "            for j in range(0, 9):\n",
    "                point_start = (j * cell_width, i * cell_width)\n",
    "                point_stop = ((j + 1) * cell_width, i * cell_width)\n",
    "                if self.connected_points(board, point_start, point_stop):\n",
    "                    self.add_edge(self.number(i - 1, j), self.number(i, j))\n",
    "\n",
    "    def transform_indices(self):\n",
    "        new_list = []\n",
    "        for [i, j] in self.adj_list:\n",
    "            new_list.append([self.indices(i), self.indices(j)])\n",
    "        self.adj_list = new_list\n",
    "\n",
    "    def dfs(self, i, j, color):\n",
    "        self.visited[i][j] = color\n",
    "        for [[a_i, a_j], [b_i, b_j]] in self.adj_list:\n",
    "            if a_i == i and a_j == j and self.visited[b_i][b_j] == -1:\n",
    "                self.dfs(b_i, b_j, color)\n",
    "            \n",
    "    def solve_islands(self):\n",
    "        color = 1\n",
    "        for i in range(9):\n",
    "            for j in range(9):\n",
    "                if self.visited[i][j] == -1:\n",
    "                    self.dfs(i, j, color)\n",
    "                    color += 1\n",
    "                    "
   ]
  },
  {
   "cell_type": "markdown",
   "metadata": {},
   "source": [
    "### Task 2 solver"
   ]
  },
  {
   "cell_type": "code",
   "execution_count": 23,
   "metadata": {},
   "outputs": [],
   "source": [
    "def solve_task_2(type=''):\n",
    "    submit_jigsaw = './fisiere_solutie/jigsaw/'\n",
    "    submit_names = [submit_jigsaw + str(i) + '_predicted.txt' for i in range(1, JIGSAW_IMGS + 1)]\n",
    "    i = 0\n",
    "    for curr_image in jigsaw_data:\n",
    "        # * warp and preprocess image\n",
    "        warped = preprocess_task2(curr_image)\n",
    "        show_image(\"pentru linii\", warped)\n",
    "\n",
    "        # * lucrez cu warped image pentru muchiile grafului\n",
    "        graph = Graph()\n",
    "        graph.construct_graph_from_board(warped)\n",
    "        graph.transform_indices()\n",
    "        graph.solve_islands()\n",
    "\n",
    "        # * preprocess again\n",
    "        warped = preprocess_task1(curr_image)\n",
    "        \n",
    "        # * create a mask\n",
    "        vertical, horizontal = grid_lines(warped)\n",
    "        mask = grid_mask(vertical, horizontal)\n",
    "\n",
    "        # * remove the lines from the board\n",
    "        board = cv.bitwise_and(warped, mask)\n",
    "        # show_image(\"board\", board)\n",
    "        cells = get_cells(board)\n",
    "        result = task2(cells, graph.visited) if type != BONUS else task2(cells, graph.visited, BONUS)\n",
    "\n",
    "        file_write = open(submit_names[i], 'w')\n",
    "        file_write.write(result)\n",
    "        i += 1\n",
    "         "
   ]
  },
  {
   "cell_type": "markdown",
   "metadata": {},
   "source": [
    "# Main program"
   ]
  },
  {
   "cell_type": "code",
   "execution_count": 25,
   "metadata": {},
   "outputs": [],
   "source": [
    "def main():\n",
    "    # * Solve and submit task 1\n",
    "    solve_task_1()\n",
    "    # * Solve and submit task 1 - BONUS\n",
    "    # solve_task_1(BONUS)\n",
    "    # * Solve an submit task 2\n",
    "    solve_task_2()\n",
    "    # * Solve and submit task 2 - BONUS\n",
    "    # solve_task_2(BONUS)\n",
    "    pass\n",
    "\n",
    "if __name__==\"__main__\":\n",
    "    main()"
   ]
  }
 ],
 "metadata": {
  "interpreter": {
   "hash": "916dbcbb3f70747c44a77c7bcd40155683ae19c65e1c03b4aa3499c5328201f1"
  },
  "kernelspec": {
   "display_name": "Python 3.9.5 64-bit",
   "language": "python",
   "name": "python3"
  },
  "language_info": {
   "codemirror_mode": {
    "name": "ipython",
    "version": 3
   },
   "file_extension": ".py",
   "mimetype": "text/x-python",
   "name": "python",
   "nbconvert_exporter": "python",
   "pygments_lexer": "ipython3",
   "version": "3.9.5"
  },
  "orig_nbformat": 4
 },
 "nbformat": 4,
 "nbformat_minor": 2
}
